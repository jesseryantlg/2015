{
  "nbformat": 4,
  "nbformat_minor": 0,
  "metadata": {
    "colab": {
      "provenance": [],
      "authorship_tag": "ABX9TyNBJ6FrYxh9TT9kazno/Wat",
      "include_colab_link": true
    },
    "kernelspec": {
      "name": "python3",
      "display_name": "Python 3"
    },
    "language_info": {
      "name": "python"
    }
  },
  "cells": [
    {
      "cell_type": "markdown",
      "metadata": {
        "id": "view-in-github",
        "colab_type": "text"
      },
      "source": [
        "<a href=\"https://colab.research.google.com/github/jesseryantlg/2015/blob/master/DS484_PE10_JesseRyan.ipynb\" target=\"_parent\"><img src=\"https://colab.research.google.com/assets/colab-badge.svg\" alt=\"Open In Colab\"/></a>"
      ]
    },
    {
      "cell_type": "code",
      "execution_count": 4,
      "metadata": {
        "colab": {
          "base_uri": "https://localhost:8080/"
        },
        "id": "gnZB2Mg__vxL",
        "outputId": "e1f376e8-143e-4f5d-e2b5-3d5689468eb3"
      },
      "outputs": [
        {
          "output_type": "stream",
          "name": "stdout",
          "text": [
            "Collecting findspark\n",
            "  Downloading findspark-2.0.1-py2.py3-none-any.whl (4.4 kB)\n",
            "Installing collected packages: findspark\n",
            "Successfully installed findspark-2.0.1\n"
          ]
        }
      ],
      "source": [
        "#!pip install pyspark\n",
        "!pip install findspark\n",
        "\n",
        "#importing the necessary modules\n",
        "import os\n",
        "import sys\n",
        "import pyspark\n",
        "import random\n",
        "import pandas as pd\n",
        "import findspark\n",
        "findspark.init()\n",
        "\n",
        "from pyspark.ml.regression import LinearRegression\n",
        "from pyspark.ml.stat import Correlation\n",
        "import pyspark.sql.functions as F\n",
        "\n",
        "os.environ['PYSPARK_PYTHON'] = sys.executable\n",
        "os.environ['PYSPARK_DRIVER_PYTHON'] = sys.executable\n",
        "os.environ['PYSPARK_DRIVER_PYTHON_OPTS'] = \"notebook\""
      ]
    },
    {
      "cell_type": "code",
      "source": [
        "#Import SparkSession module\n",
        "\n",
        "from pyspark.sql import SparkSession\n",
        "\n",
        "#Creating sparksession object\n",
        "spark = SparkSession.builder.master(\"local[*]\").appName(\"Washington State housing price analysis\").getOrCreate()\n",
        "\n",
        "#Call the spark session variable object\n",
        "\n",
        "spark"
      ],
      "metadata": {
        "colab": {
          "base_uri": "https://localhost:8080/",
          "height": 221
        },
        "id": "SJVDdzosApot",
        "outputId": "581364a1-063e-4223-b3ec-b66137190c2c"
      },
      "execution_count": 5,
      "outputs": [
        {
          "output_type": "execute_result",
          "data": {
            "text/plain": [
              "<pyspark.sql.session.SparkSession at 0x795f9fce89d0>"
            ],
            "text/html": [
              "\n",
              "            <div>\n",
              "                <p><b>SparkSession - in-memory</b></p>\n",
              "                \n",
              "        <div>\n",
              "            <p><b>SparkContext</b></p>\n",
              "\n",
              "            <p><a href=\"http://da460551fa06:4040\">Spark UI</a></p>\n",
              "\n",
              "            <dl>\n",
              "              <dt>Version</dt>\n",
              "                <dd><code>v3.5.1</code></dd>\n",
              "              <dt>Master</dt>\n",
              "                <dd><code>local[*]</code></dd>\n",
              "              <dt>AppName</dt>\n",
              "                <dd><code>Washington State housing price analysis</code></dd>\n",
              "            </dl>\n",
              "        </div>\n",
              "        \n",
              "            </div>\n",
              "        "
            ]
          },
          "metadata": {},
          "execution_count": 5
        }
      ]
    },
    {
      "cell_type": "code",
      "source": [
        "#importing data\n",
        "house_data = spark.read.csv(\"WA_house_data.csv\", inferSchema = True, header = True)"
      ],
      "metadata": {
        "id": "oC6CjSZuB0ho"
      },
      "execution_count": 9,
      "outputs": []
    },
    {
      "cell_type": "code",
      "source": [
        "house_data.show(truncate=True)"
      ],
      "metadata": {
        "colab": {
          "base_uri": "https://localhost:8080/"
        },
        "id": "4N33icktCoWt",
        "outputId": "bee81973-88c5-4f79-bd14-e1e09caa5a3c"
      },
      "execution_count": 10,
      "outputs": [
        {
          "output_type": "stream",
          "name": "stdout",
          "text": [
            "+---------+--------+---------+-----------+--------+------+----------+----+---------+-----+----------+-------------+--------+------------+-------+------------+-------+--------+-------------+----------+\n",
            "|    price|bedrooms|bathrooms|sqft_living|sqft_lot|floors|waterfront|view|condition|grade|sqft_above|sqft_basement|yr_built|yr_renovated|zipcode|        city|    lat|    long|sqft_living15|sqft_lot15|\n",
            "+---------+--------+---------+-----------+--------+------+----------+----+---------+-----+----------+-------------+--------+------------+-------+------------+-------+--------+-------------+----------+\n",
            "| 221900.0|       3|      1.0|       1180|    5650|   1.0|         0|   0|        3|    7|      1180|            0|    1955|           0|  98178|     Seattle|47.5112|-122.257|         1340|      5650|\n",
            "| 538000.0|       3|     2.25|       2570|    7242|   2.0|         0|   0|        3|    7|      2170|          400|    1951|        1991|  98125|     Seattle| 47.721|-122.319|         1690|      7639|\n",
            "| 180000.0|       2|      1.0|        770|   10000|   1.0|         0|   0|        3|    6|       770|            0|    1933|           0|  98028|     Kenmore|47.7379|-122.233|         2720|      8062|\n",
            "| 604000.0|       4|      3.0|       1960|    5000|   1.0|         0|   0|        5|    7|      1050|          910|    1965|           0|  98136|     Seattle|47.5208|-122.393|         1360|      5000|\n",
            "| 510000.0|       3|      2.0|       1680|    8080|   1.0|         0|   0|        3|    8|      1680|            0|    1987|           0|  98074|   Sammamish|47.6168|-122.045|         1800|      7503|\n",
            "|1230000.0|       4|      4.5|       5420|  101930|   1.0|         0|   0|        3|   11|      3890|         1530|    2001|           0|  98053|     Redmond|47.6561|-122.005|         4760|    101930|\n",
            "| 257500.0|       3|     2.25|       1715|    6819|   2.0|         0|   0|        3|    7|      1715|            0|    1995|           0|  98003| Federal Way|47.3097|-122.327|         2238|      6819|\n",
            "| 291850.0|       3|      1.5|       1060|    9711|   1.0|         0|   0|        3|    7|      1060|            0|    1963|           0|  98198|     Seattle|47.4095|-122.315|         1650|      9711|\n",
            "| 229500.0|       3|      1.0|       1780|    7470|   1.0|         0|   0|        3|    7|      1050|          730|    1960|           0|  98146|     Seattle|47.5123|-122.337|         1780|      8113|\n",
            "| 323000.0|       3|      2.5|       1890|    6560|   2.0|         0|   0|        3|    7|      1890|            0|    2003|           0|  98038|Maple Valley|47.3684|-122.031|         2390|      7570|\n",
            "| 662500.0|       3|      2.5|       3560|    9796|   1.0|         0|   0|        3|    8|      1860|         1700|    1965|           0|  98007|    Bellevue|47.6007|-122.145|         2210|      8925|\n",
            "| 468000.0|       2|      1.0|       1160|    6000|   1.0|         0|   0|        4|    7|       860|          300|    1942|           0|  98115|     Seattle|  47.69|-122.292|         1330|      6000|\n",
            "| 310000.0|       3|      1.0|       1430|   19901|   1.5|         0|   0|        4|    7|      1430|            0|    1927|           0|  98028|     Kenmore|47.7558|-122.229|         1780|     12697|\n",
            "| 400000.0|       3|     1.75|       1370|    9680|   1.0|         0|   0|        4|    7|      1370|            0|    1977|           0|  98074|   Sammamish|47.6127|-122.045|         1370|     10208|\n",
            "| 530000.0|       5|      2.0|       1810|    4850|   1.5|         0|   0|        3|    7|      1810|            0|    1900|           0|  98107|     Seattle|  47.67|-122.394|         1360|      4850|\n",
            "| 650000.0|       4|      3.0|       2950|    5000|   2.0|         0|   3|        3|    9|      1980|          970|    1979|           0|  98126|     Seattle|47.5714|-122.375|         2140|      4000|\n",
            "| 395000.0|       3|      2.0|       1890|   14040|   2.0|         0|   0|        3|    7|      1890|            0|    1994|           0|  98019|      Duvall|47.7277|-121.962|         1890|     14018|\n",
            "| 485000.0|       4|      1.0|       1600|    4300|   1.5|         0|   0|        4|    7|      1600|            0|    1916|           0|  98103|     Seattle|47.6648|-122.343|         1610|      4300|\n",
            "| 189000.0|       2|      1.0|       1200|    9850|   1.0|         0|   0|        4|    7|      1200|            0|    1921|           0|  98002|      Auburn|47.3089| -122.21|         1060|      5095|\n",
            "| 230000.0|       3|      1.0|       1250|    9774|   1.0|         0|   0|        4|    7|      1250|            0|    1969|           0|  98003| Federal Way|47.3343|-122.306|         1280|      8850|\n",
            "+---------+--------+---------+-----------+--------+------+----------+----+---------+-----+----------+-------------+--------+------------+-------+------------+-------+--------+-------------+----------+\n",
            "only showing top 20 rows\n",
            "\n"
          ]
        }
      ]
    },
    {
      "cell_type": "code",
      "source": [
        "#Check the entire dataset\n",
        "house_data.head(5)"
      ],
      "metadata": {
        "colab": {
          "base_uri": "https://localhost:8080/"
        },
        "id": "J8XYLff_Cx1u",
        "outputId": "ec71e38f-68d0-4213-985c-4abaf23fc615"
      },
      "execution_count": 11,
      "outputs": [
        {
          "output_type": "execute_result",
          "data": {
            "text/plain": [
              "[Row(price=221900.0, bedrooms=3, bathrooms=1.0, sqft_living=1180, sqft_lot=5650, floors=1.0, waterfront=0, view=0, condition=3, grade=7, sqft_above=1180, sqft_basement=0, yr_built=1955, yr_renovated=0, zipcode=98178, city='Seattle', lat=47.5112, long=-122.257, sqft_living15=1340, sqft_lot15=5650),\n",
              " Row(price=538000.0, bedrooms=3, bathrooms=2.25, sqft_living=2570, sqft_lot=7242, floors=2.0, waterfront=0, view=0, condition=3, grade=7, sqft_above=2170, sqft_basement=400, yr_built=1951, yr_renovated=1991, zipcode=98125, city='Seattle', lat=47.721, long=-122.319, sqft_living15=1690, sqft_lot15=7639),\n",
              " Row(price=180000.0, bedrooms=2, bathrooms=1.0, sqft_living=770, sqft_lot=10000, floors=1.0, waterfront=0, view=0, condition=3, grade=6, sqft_above=770, sqft_basement=0, yr_built=1933, yr_renovated=0, zipcode=98028, city='Kenmore', lat=47.7379, long=-122.233, sqft_living15=2720, sqft_lot15=8062),\n",
              " Row(price=604000.0, bedrooms=4, bathrooms=3.0, sqft_living=1960, sqft_lot=5000, floors=1.0, waterfront=0, view=0, condition=5, grade=7, sqft_above=1050, sqft_basement=910, yr_built=1965, yr_renovated=0, zipcode=98136, city='Seattle', lat=47.5208, long=-122.393, sqft_living15=1360, sqft_lot15=5000),\n",
              " Row(price=510000.0, bedrooms=3, bathrooms=2.0, sqft_living=1680, sqft_lot=8080, floors=1.0, waterfront=0, view=0, condition=3, grade=8, sqft_above=1680, sqft_basement=0, yr_built=1987, yr_renovated=0, zipcode=98074, city='Sammamish', lat=47.6168, long=-122.045, sqft_living15=1800, sqft_lot15=7503)]"
            ]
          },
          "metadata": {},
          "execution_count": 11
        }
      ]
    },
    {
      "cell_type": "code",
      "source": [
        "#Check the schema\n",
        "house_data.printSchema()"
      ],
      "metadata": {
        "colab": {
          "base_uri": "https://localhost:8080/"
        },
        "id": "8PuBSRmSC3CW",
        "outputId": "cdf28cf8-940b-40d7-bc92-50cb3f6e3c77"
      },
      "execution_count": 12,
      "outputs": [
        {
          "output_type": "stream",
          "name": "stdout",
          "text": [
            "root\n",
            " |-- price: double (nullable = true)\n",
            " |-- bedrooms: integer (nullable = true)\n",
            " |-- bathrooms: double (nullable = true)\n",
            " |-- sqft_living: integer (nullable = true)\n",
            " |-- sqft_lot: integer (nullable = true)\n",
            " |-- floors: double (nullable = true)\n",
            " |-- waterfront: integer (nullable = true)\n",
            " |-- view: integer (nullable = true)\n",
            " |-- condition: integer (nullable = true)\n",
            " |-- grade: integer (nullable = true)\n",
            " |-- sqft_above: integer (nullable = true)\n",
            " |-- sqft_basement: integer (nullable = true)\n",
            " |-- yr_built: integer (nullable = true)\n",
            " |-- yr_renovated: integer (nullable = true)\n",
            " |-- zipcode: integer (nullable = true)\n",
            " |-- city: string (nullable = true)\n",
            " |-- lat: double (nullable = true)\n",
            " |-- long: double (nullable = true)\n",
            " |-- sqft_living15: integer (nullable = true)\n",
            " |-- sqft_lot15: integer (nullable = true)\n",
            "\n"
          ]
        }
      ]
    },
    {
      "cell_type": "code",
      "source": [
        "#Import module\n",
        "from pyspark.ml.feature import StringIndexer\n",
        "\n",
        "#Convert string to integer\n",
        "house = StringIndexer(inputCol = 'city', outputCol = 'city_int')\n",
        "house_indexed = house.fit(house_data).transform(house_data)"
      ],
      "metadata": {
        "id": "m6TjM-ytC8FS"
      },
      "execution_count": 13,
      "outputs": []
    },
    {
      "cell_type": "code",
      "source": [
        "#Check the entire dataset\n",
        "house_indexed.show()"
      ],
      "metadata": {
        "colab": {
          "base_uri": "https://localhost:8080/"
        },
        "id": "izDy1UoaDZQj",
        "outputId": "063b73fc-1189-4161-e37b-9ed7a51851a0"
      },
      "execution_count": 14,
      "outputs": [
        {
          "output_type": "stream",
          "name": "stdout",
          "text": [
            "+---------+--------+---------+-----------+--------+------+----------+----+---------+-----+----------+-------------+--------+------------+-------+------------+-------+--------+-------------+----------+--------+\n",
            "|    price|bedrooms|bathrooms|sqft_living|sqft_lot|floors|waterfront|view|condition|grade|sqft_above|sqft_basement|yr_built|yr_renovated|zipcode|        city|    lat|    long|sqft_living15|sqft_lot15|city_int|\n",
            "+---------+--------+---------+-----------+--------+------+----------+----+---------+-----+----------+-------------+--------+------------+-------+------------+-------+--------+-------------+----------+--------+\n",
            "| 221900.0|       3|      1.0|       1180|    5650|   1.0|         0|   0|        3|    7|      1180|            0|    1955|           0|  98178|     Seattle|47.5112|-122.257|         1340|      5650|     0.0|\n",
            "| 538000.0|       3|     2.25|       2570|    7242|   2.0|         0|   0|        3|    7|      2170|          400|    1951|        1991|  98125|     Seattle| 47.721|-122.319|         1690|      7639|     0.0|\n",
            "| 180000.0|       2|      1.0|        770|   10000|   1.0|         0|   0|        3|    6|       770|            0|    1933|           0|  98028|     Kenmore|47.7379|-122.233|         2720|      8062|    13.0|\n",
            "| 604000.0|       4|      3.0|       1960|    5000|   1.0|         0|   0|        5|    7|      1050|          910|    1965|           0|  98136|     Seattle|47.5208|-122.393|         1360|      5000|     0.0|\n",
            "| 510000.0|       3|      2.0|       1680|    8080|   1.0|         0|   0|        3|    8|      1680|            0|    1987|           0|  98074|   Sammamish|47.6168|-122.045|         1800|      7503|     7.0|\n",
            "|1230000.0|       4|      4.5|       5420|  101930|   1.0|         0|   0|        3|   11|      3890|         1530|    2001|           0|  98053|     Redmond|47.6561|-122.005|         4760|    101930|     4.0|\n",
            "| 257500.0|       3|     2.25|       1715|    6819|   2.0|         0|   0|        3|    7|      1715|            0|    1995|           0|  98003| Federal Way|47.3097|-122.327|         2238|      6819|     8.0|\n",
            "| 291850.0|       3|      1.5|       1060|    9711|   1.0|         0|   0|        3|    7|      1060|            0|    1963|           0|  98198|     Seattle|47.4095|-122.315|         1650|      9711|     0.0|\n",
            "| 229500.0|       3|      1.0|       1780|    7470|   1.0|         0|   0|        3|    7|      1050|          730|    1960|           0|  98146|     Seattle|47.5123|-122.337|         1780|      8113|     0.0|\n",
            "| 323000.0|       3|      2.5|       1890|    6560|   2.0|         0|   0|        3|    7|      1890|            0|    2003|           0|  98038|Maple Valley|47.3684|-122.031|         2390|      7570|    10.0|\n",
            "| 662500.0|       3|      2.5|       3560|    9796|   1.0|         0|   0|        3|    8|      1860|         1700|    1965|           0|  98007|    Bellevue|47.6007|-122.145|         2210|      8925|     2.0|\n",
            "| 468000.0|       2|      1.0|       1160|    6000|   1.0|         0|   0|        4|    7|       860|          300|    1942|           0|  98115|     Seattle|  47.69|-122.292|         1330|      6000|     0.0|\n",
            "| 310000.0|       3|      1.0|       1430|   19901|   1.5|         0|   0|        4|    7|      1430|            0|    1927|           0|  98028|     Kenmore|47.7558|-122.229|         1780|     12697|    13.0|\n",
            "| 400000.0|       3|     1.75|       1370|    9680|   1.0|         0|   0|        4|    7|      1370|            0|    1977|           0|  98074|   Sammamish|47.6127|-122.045|         1370|     10208|     7.0|\n",
            "| 530000.0|       5|      2.0|       1810|    4850|   1.5|         0|   0|        3|    7|      1810|            0|    1900|           0|  98107|     Seattle|  47.67|-122.394|         1360|      4850|     0.0|\n",
            "| 650000.0|       4|      3.0|       2950|    5000|   2.0|         0|   3|        3|    9|      1980|          970|    1979|           0|  98126|     Seattle|47.5714|-122.375|         2140|      4000|     0.0|\n",
            "| 395000.0|       3|      2.0|       1890|   14040|   2.0|         0|   0|        3|    7|      1890|            0|    1994|           0|  98019|      Duvall|47.7277|-121.962|         1890|     14018|    18.0|\n",
            "| 485000.0|       4|      1.0|       1600|    4300|   1.5|         0|   0|        4|    7|      1600|            0|    1916|           0|  98103|     Seattle|47.6648|-122.343|         1610|      4300|     0.0|\n",
            "| 189000.0|       2|      1.0|       1200|    9850|   1.0|         0|   0|        4|    7|      1200|            0|    1921|           0|  98002|      Auburn|47.3089| -122.21|         1060|      5095|     6.0|\n",
            "| 230000.0|       3|      1.0|       1250|    9774|   1.0|         0|   0|        4|    7|      1250|            0|    1969|           0|  98003| Federal Way|47.3343|-122.306|         1280|      8850|     8.0|\n",
            "+---------+--------+---------+-----------+--------+------+----------+----+---------+-----+----------+-------------+--------+------------+-------+------------+-------+--------+-------------+----------+--------+\n",
            "only showing top 20 rows\n",
            "\n"
          ]
        }
      ]
    },
    {
      "cell_type": "code",
      "source": [
        "#Converting columns into independent features (variable)\n",
        "#exclude string data type\n",
        "from pyspark.ml.feature import VectorAssembler\n",
        "\n",
        "featureassembler = VectorAssembler(inputCols=[\"bedrooms\", \"bathrooms\", \"sqft_lot\", \"floors\", \"waterfront\", \"view\", \"condition\", \"grade\", \"sqft_above\", \"sqft_basement\", \"yr_built\", \"yr_renovated\", \"zipcode\", \"city_int\", \"sqft_living15\", \"sqft_lot15\"], outputCol = \"Independent Features\")"
      ],
      "metadata": {
        "id": "n-eFJ1w-Dmpe"
      },
      "execution_count": 16,
      "outputs": []
    },
    {
      "cell_type": "code",
      "source": [
        "output = featureassembler.transform(house_indexed)"
      ],
      "metadata": {
        "id": "yXn6BQuXFRx1"
      },
      "execution_count": 17,
      "outputs": []
    },
    {
      "cell_type": "code",
      "source": [
        "output.show()"
      ],
      "metadata": {
        "colab": {
          "base_uri": "https://localhost:8080/"
        },
        "id": "UuuvNKjRFar-",
        "outputId": "09391d49-2904-4b11-d4f7-2c9ef39d6cd7"
      },
      "execution_count": 18,
      "outputs": [
        {
          "output_type": "stream",
          "name": "stdout",
          "text": [
            "+---------+--------+---------+-----------+--------+------+----------+----+---------+-----+----------+-------------+--------+------------+-------+------------+-------+--------+-------------+----------+--------+--------------------+\n",
            "|    price|bedrooms|bathrooms|sqft_living|sqft_lot|floors|waterfront|view|condition|grade|sqft_above|sqft_basement|yr_built|yr_renovated|zipcode|        city|    lat|    long|sqft_living15|sqft_lot15|city_int|Independent Features|\n",
            "+---------+--------+---------+-----------+--------+------+----------+----+---------+-----+----------+-------------+--------+------------+-------+------------+-------+--------+-------------+----------+--------+--------------------+\n",
            "| 221900.0|       3|      1.0|       1180|    5650|   1.0|         0|   0|        3|    7|      1180|            0|    1955|           0|  98178|     Seattle|47.5112|-122.257|         1340|      5650|     0.0|[3.0,1.0,5650.0,1...|\n",
            "| 538000.0|       3|     2.25|       2570|    7242|   2.0|         0|   0|        3|    7|      2170|          400|    1951|        1991|  98125|     Seattle| 47.721|-122.319|         1690|      7639|     0.0|[3.0,2.25,7242.0,...|\n",
            "| 180000.0|       2|      1.0|        770|   10000|   1.0|         0|   0|        3|    6|       770|            0|    1933|           0|  98028|     Kenmore|47.7379|-122.233|         2720|      8062|    13.0|[2.0,1.0,10000.0,...|\n",
            "| 604000.0|       4|      3.0|       1960|    5000|   1.0|         0|   0|        5|    7|      1050|          910|    1965|           0|  98136|     Seattle|47.5208|-122.393|         1360|      5000|     0.0|[4.0,3.0,5000.0,1...|\n",
            "| 510000.0|       3|      2.0|       1680|    8080|   1.0|         0|   0|        3|    8|      1680|            0|    1987|           0|  98074|   Sammamish|47.6168|-122.045|         1800|      7503|     7.0|[3.0,2.0,8080.0,1...|\n",
            "|1230000.0|       4|      4.5|       5420|  101930|   1.0|         0|   0|        3|   11|      3890|         1530|    2001|           0|  98053|     Redmond|47.6561|-122.005|         4760|    101930|     4.0|[4.0,4.5,101930.0...|\n",
            "| 257500.0|       3|     2.25|       1715|    6819|   2.0|         0|   0|        3|    7|      1715|            0|    1995|           0|  98003| Federal Way|47.3097|-122.327|         2238|      6819|     8.0|[3.0,2.25,6819.0,...|\n",
            "| 291850.0|       3|      1.5|       1060|    9711|   1.0|         0|   0|        3|    7|      1060|            0|    1963|           0|  98198|     Seattle|47.4095|-122.315|         1650|      9711|     0.0|[3.0,1.5,9711.0,1...|\n",
            "| 229500.0|       3|      1.0|       1780|    7470|   1.0|         0|   0|        3|    7|      1050|          730|    1960|           0|  98146|     Seattle|47.5123|-122.337|         1780|      8113|     0.0|[3.0,1.0,7470.0,1...|\n",
            "| 323000.0|       3|      2.5|       1890|    6560|   2.0|         0|   0|        3|    7|      1890|            0|    2003|           0|  98038|Maple Valley|47.3684|-122.031|         2390|      7570|    10.0|[3.0,2.5,6560.0,2...|\n",
            "| 662500.0|       3|      2.5|       3560|    9796|   1.0|         0|   0|        3|    8|      1860|         1700|    1965|           0|  98007|    Bellevue|47.6007|-122.145|         2210|      8925|     2.0|[3.0,2.5,9796.0,1...|\n",
            "| 468000.0|       2|      1.0|       1160|    6000|   1.0|         0|   0|        4|    7|       860|          300|    1942|           0|  98115|     Seattle|  47.69|-122.292|         1330|      6000|     0.0|[2.0,1.0,6000.0,1...|\n",
            "| 310000.0|       3|      1.0|       1430|   19901|   1.5|         0|   0|        4|    7|      1430|            0|    1927|           0|  98028|     Kenmore|47.7558|-122.229|         1780|     12697|    13.0|[3.0,1.0,19901.0,...|\n",
            "| 400000.0|       3|     1.75|       1370|    9680|   1.0|         0|   0|        4|    7|      1370|            0|    1977|           0|  98074|   Sammamish|47.6127|-122.045|         1370|     10208|     7.0|[3.0,1.75,9680.0,...|\n",
            "| 530000.0|       5|      2.0|       1810|    4850|   1.5|         0|   0|        3|    7|      1810|            0|    1900|           0|  98107|     Seattle|  47.67|-122.394|         1360|      4850|     0.0|[5.0,2.0,4850.0,1...|\n",
            "| 650000.0|       4|      3.0|       2950|    5000|   2.0|         0|   3|        3|    9|      1980|          970|    1979|           0|  98126|     Seattle|47.5714|-122.375|         2140|      4000|     0.0|[4.0,3.0,5000.0,2...|\n",
            "| 395000.0|       3|      2.0|       1890|   14040|   2.0|         0|   0|        3|    7|      1890|            0|    1994|           0|  98019|      Duvall|47.7277|-121.962|         1890|     14018|    18.0|[3.0,2.0,14040.0,...|\n",
            "| 485000.0|       4|      1.0|       1600|    4300|   1.5|         0|   0|        4|    7|      1600|            0|    1916|           0|  98103|     Seattle|47.6648|-122.343|         1610|      4300|     0.0|[4.0,1.0,4300.0,1...|\n",
            "| 189000.0|       2|      1.0|       1200|    9850|   1.0|         0|   0|        4|    7|      1200|            0|    1921|           0|  98002|      Auburn|47.3089| -122.21|         1060|      5095|     6.0|[2.0,1.0,9850.0,1...|\n",
            "| 230000.0|       3|      1.0|       1250|    9774|   1.0|         0|   0|        4|    7|      1250|            0|    1969|           0|  98003| Federal Way|47.3343|-122.306|         1280|      8850|     8.0|[3.0,1.0,9774.0,1...|\n",
            "+---------+--------+---------+-----------+--------+------+----------+----+---------+-----+----------+-------------+--------+------------+-------+------------+-------+--------+-------------+----------+--------+--------------------+\n",
            "only showing top 20 rows\n",
            "\n"
          ]
        }
      ]
    },
    {
      "cell_type": "code",
      "source": [
        "output.select(\"Independent Features\").show(truncate=False)"
      ],
      "metadata": {
        "colab": {
          "base_uri": "https://localhost:8080/"
        },
        "id": "1b08VEXZFeET",
        "outputId": "4e28b852-1174-41e0-e59e-5a02c775b0fc"
      },
      "execution_count": 19,
      "outputs": [
        {
          "output_type": "stream",
          "name": "stdout",
          "text": [
            "+--------------------------------------------------------------------------------------------+\n",
            "|Independent Features                                                                        |\n",
            "+--------------------------------------------------------------------------------------------+\n",
            "|[3.0,1.0,5650.0,1.0,0.0,0.0,3.0,7.0,1180.0,0.0,1955.0,0.0,98178.0,0.0,1340.0,5650.0]        |\n",
            "|[3.0,2.25,7242.0,2.0,0.0,0.0,3.0,7.0,2170.0,400.0,1951.0,1991.0,98125.0,0.0,1690.0,7639.0]  |\n",
            "|[2.0,1.0,10000.0,1.0,0.0,0.0,3.0,6.0,770.0,0.0,1933.0,0.0,98028.0,13.0,2720.0,8062.0]       |\n",
            "|[4.0,3.0,5000.0,1.0,0.0,0.0,5.0,7.0,1050.0,910.0,1965.0,0.0,98136.0,0.0,1360.0,5000.0]      |\n",
            "|[3.0,2.0,8080.0,1.0,0.0,0.0,3.0,8.0,1680.0,0.0,1987.0,0.0,98074.0,7.0,1800.0,7503.0]        |\n",
            "|[4.0,4.5,101930.0,1.0,0.0,0.0,3.0,11.0,3890.0,1530.0,2001.0,0.0,98053.0,4.0,4760.0,101930.0]|\n",
            "|[3.0,2.25,6819.0,2.0,0.0,0.0,3.0,7.0,1715.0,0.0,1995.0,0.0,98003.0,8.0,2238.0,6819.0]       |\n",
            "|[3.0,1.5,9711.0,1.0,0.0,0.0,3.0,7.0,1060.0,0.0,1963.0,0.0,98198.0,0.0,1650.0,9711.0]        |\n",
            "|[3.0,1.0,7470.0,1.0,0.0,0.0,3.0,7.0,1050.0,730.0,1960.0,0.0,98146.0,0.0,1780.0,8113.0]      |\n",
            "|[3.0,2.5,6560.0,2.0,0.0,0.0,3.0,7.0,1890.0,0.0,2003.0,0.0,98038.0,10.0,2390.0,7570.0]       |\n",
            "|[3.0,2.5,9796.0,1.0,0.0,0.0,3.0,8.0,1860.0,1700.0,1965.0,0.0,98007.0,2.0,2210.0,8925.0]     |\n",
            "|[2.0,1.0,6000.0,1.0,0.0,0.0,4.0,7.0,860.0,300.0,1942.0,0.0,98115.0,0.0,1330.0,6000.0]       |\n",
            "|[3.0,1.0,19901.0,1.5,0.0,0.0,4.0,7.0,1430.0,0.0,1927.0,0.0,98028.0,13.0,1780.0,12697.0]     |\n",
            "|[3.0,1.75,9680.0,1.0,0.0,0.0,4.0,7.0,1370.0,0.0,1977.0,0.0,98074.0,7.0,1370.0,10208.0]      |\n",
            "|[5.0,2.0,4850.0,1.5,0.0,0.0,3.0,7.0,1810.0,0.0,1900.0,0.0,98107.0,0.0,1360.0,4850.0]        |\n",
            "|[4.0,3.0,5000.0,2.0,0.0,3.0,3.0,9.0,1980.0,970.0,1979.0,0.0,98126.0,0.0,2140.0,4000.0]      |\n",
            "|[3.0,2.0,14040.0,2.0,0.0,0.0,3.0,7.0,1890.0,0.0,1994.0,0.0,98019.0,18.0,1890.0,14018.0]     |\n",
            "|[4.0,1.0,4300.0,1.5,0.0,0.0,4.0,7.0,1600.0,0.0,1916.0,0.0,98103.0,0.0,1610.0,4300.0]        |\n",
            "|[2.0,1.0,9850.0,1.0,0.0,0.0,4.0,7.0,1200.0,0.0,1921.0,0.0,98002.0,6.0,1060.0,5095.0]        |\n",
            "|[3.0,1.0,9774.0,1.0,0.0,0.0,4.0,7.0,1250.0,0.0,1969.0,0.0,98003.0,8.0,1280.0,8850.0]        |\n",
            "+--------------------------------------------------------------------------------------------+\n",
            "only showing top 20 rows\n",
            "\n"
          ]
        }
      ]
    },
    {
      "cell_type": "code",
      "source": [
        "output.columns"
      ],
      "metadata": {
        "colab": {
          "base_uri": "https://localhost:8080/"
        },
        "id": "80m2ILzWFl6f",
        "outputId": "04f761bf-0aa9-4e4b-9056-c665476f7f8d"
      },
      "execution_count": 20,
      "outputs": [
        {
          "output_type": "execute_result",
          "data": {
            "text/plain": [
              "['price',\n",
              " 'bedrooms',\n",
              " 'bathrooms',\n",
              " 'sqft_living',\n",
              " 'sqft_lot',\n",
              " 'floors',\n",
              " 'waterfront',\n",
              " 'view',\n",
              " 'condition',\n",
              " 'grade',\n",
              " 'sqft_above',\n",
              " 'sqft_basement',\n",
              " 'yr_built',\n",
              " 'yr_renovated',\n",
              " 'zipcode',\n",
              " 'city',\n",
              " 'lat',\n",
              " 'long',\n",
              " 'sqft_living15',\n",
              " 'sqft_lot15',\n",
              " 'city_int',\n",
              " 'Independent Features']"
            ]
          },
          "metadata": {},
          "execution_count": 20
        }
      ]
    },
    {
      "cell_type": "code",
      "source": [
        "#Selecting independent (feature) and dependent variable (price)\n",
        "finalized_data = output.select(\"Independent Features\", \"price\")"
      ],
      "metadata": {
        "id": "FIizAAWTFu00"
      },
      "execution_count": 21,
      "outputs": []
    },
    {
      "cell_type": "code",
      "source": [
        "finalized_data.show()"
      ],
      "metadata": {
        "colab": {
          "base_uri": "https://localhost:8080/"
        },
        "id": "zE8IPZMfF8PY",
        "outputId": "93ac3e1b-b3a8-4a6f-d03e-4edbc98c595a"
      },
      "execution_count": 22,
      "outputs": [
        {
          "output_type": "stream",
          "name": "stdout",
          "text": [
            "+--------------------+---------+\n",
            "|Independent Features|    price|\n",
            "+--------------------+---------+\n",
            "|[3.0,1.0,5650.0,1...| 221900.0|\n",
            "|[3.0,2.25,7242.0,...| 538000.0|\n",
            "|[2.0,1.0,10000.0,...| 180000.0|\n",
            "|[4.0,3.0,5000.0,1...| 604000.0|\n",
            "|[3.0,2.0,8080.0,1...| 510000.0|\n",
            "|[4.0,4.5,101930.0...|1230000.0|\n",
            "|[3.0,2.25,6819.0,...| 257500.0|\n",
            "|[3.0,1.5,9711.0,1...| 291850.0|\n",
            "|[3.0,1.0,7470.0,1...| 229500.0|\n",
            "|[3.0,2.5,6560.0,2...| 323000.0|\n",
            "|[3.0,2.5,9796.0,1...| 662500.0|\n",
            "|[2.0,1.0,6000.0,1...| 468000.0|\n",
            "|[3.0,1.0,19901.0,...| 310000.0|\n",
            "|[3.0,1.75,9680.0,...| 400000.0|\n",
            "|[5.0,2.0,4850.0,1...| 530000.0|\n",
            "|[4.0,3.0,5000.0,2...| 650000.0|\n",
            "|[3.0,2.0,14040.0,...| 395000.0|\n",
            "|[4.0,1.0,4300.0,1...| 485000.0|\n",
            "|[2.0,1.0,9850.0,1...| 189000.0|\n",
            "|[3.0,1.0,9774.0,1...| 230000.0|\n",
            "+--------------------+---------+\n",
            "only showing top 20 rows\n",
            "\n"
          ]
        }
      ]
    },
    {
      "cell_type": "code",
      "source": [
        "#Split the data into train & test\n",
        "train_data, test_data = finalized_data.randomSplit([0.70, 0.30])"
      ],
      "metadata": {
        "id": "npHbFkVVGBnK"
      },
      "execution_count": 23,
      "outputs": []
    },
    {
      "cell_type": "code",
      "source": [
        "train_data.show()"
      ],
      "metadata": {
        "colab": {
          "base_uri": "https://localhost:8080/"
        },
        "id": "d32eaeXdGLrJ",
        "outputId": "a849b77a-db16-40d6-a2f1-fd6eceaef193"
      },
      "execution_count": 24,
      "outputs": [
        {
          "output_type": "stream",
          "name": "stdout",
          "text": [
            "+--------------------+--------+\n",
            "|Independent Features|   price|\n",
            "+--------------------+--------+\n",
            "|[0.0,0.0,979.0,3....|380000.0|\n",
            "|[0.0,0.0,4269.0,1...|139950.0|\n",
            "|[0.0,0.0,4800.0,2...|235000.0|\n",
            "|[0.0,0.0,20875.0,...|142000.0|\n",
            "|[0.0,0.75,213444....|265000.0|\n",
            "|[0.0,1.0,5900.0,1...|228000.0|\n",
            "|[0.0,2.5,5669.0,2...|240000.0|\n",
            "|[1.0,0.0,23244.0,...|484000.0|\n",
            "|[1.0,0.0,43377.0,...| 75000.0|\n",
            "|[1.0,0.75,1801.0,...|276000.0|\n",
            "|[1.0,0.75,2885.0,...|310000.0|\n",
            "|[1.0,0.75,5050.0,...| 80000.0|\n",
            "|[1.0,0.75,5600.0,...|170000.0|\n",
            "|[1.0,0.75,5650.0,...|202000.0|\n",
            "|[1.0,0.75,6034.0,...|272000.0|\n",
            "|[1.0,0.75,8636.0,...|325000.0|\n",
            "|[1.0,0.75,9750.0,...|145000.0|\n",
            "|[1.0,0.75,10079.0...|369900.0|\n",
            "|[1.0,0.75,12120.0...|299000.0|\n",
            "|[1.0,0.75,12981.0...|262000.0|\n",
            "+--------------------+--------+\n",
            "only showing top 20 rows\n",
            "\n"
          ]
        }
      ]
    },
    {
      "cell_type": "code",
      "source": [
        "test_data.show()"
      ],
      "metadata": {
        "colab": {
          "base_uri": "https://localhost:8080/"
        },
        "id": "eb24bD2KGOrM",
        "outputId": "373070d0-065c-4188-e8f6-b23a537ea829"
      },
      "execution_count": 25,
      "outputs": [
        {
          "output_type": "stream",
          "name": "stdout",
          "text": [
            "+--------------------+---------+\n",
            "|Independent Features|    price|\n",
            "+--------------------+---------+\n",
            "|[0.0,0.0,4764.0,3...|1100000.0|\n",
            "|[0.0,0.0,8049.0,2...| 355000.0|\n",
            "|[0.0,0.0,28008.0,...|1300000.0|\n",
            "|[0.0,1.5,1650.0,3...| 288000.0|\n",
            "|[0.0,2.5,7111.0,2...| 320000.0|\n",
            "|[0.0,2.5,8319.0,2...| 339950.0|\n",
            "|[1.0,0.0,24501.0,...| 280000.0|\n",
            "|[1.0,0.5,1642.0,1...| 255000.0|\n",
            "|[1.0,0.75,1284.0,...| 290000.0|\n",
            "|[1.0,0.75,4600.0,...| 315000.0|\n",
            "|[1.0,0.75,5746.0,...|  95000.0|\n",
            "|[1.0,0.75,6600.0,...| 351000.0|\n",
            "|[1.0,0.75,6720.0,...| 280000.0|\n",
            "|[1.0,0.75,7203.0,...| 124000.0|\n",
            "|[1.0,0.75,7203.0,...| 224000.0|\n",
            "|[1.0,0.75,9600.0,...| 200000.0|\n",
            "|[1.0,0.75,59677.0...| 527550.0|\n",
            "|[1.0,0.75,77603.0...| 190000.0|\n",
            "|[1.0,0.75,87120.0...| 250000.0|\n",
            "|[1.0,1.0,833.0,1....| 202000.0|\n",
            "+--------------------+---------+\n",
            "only showing top 20 rows\n",
            "\n"
          ]
        }
      ]
    },
    {
      "cell_type": "code",
      "source": [
        "#Applying linear regression on selected features and label data\n",
        "regressor = LinearRegression(featuresCol = \"Independent Features\", labelCol =\"price\")"
      ],
      "metadata": {
        "id": "kJCAlN30GSXC"
      },
      "execution_count": 26,
      "outputs": []
    },
    {
      "cell_type": "code",
      "source": [
        "#training our model\n",
        "trained_model = regressor.fit(train_data)"
      ],
      "metadata": {
        "id": "wtwxbIX5Gcqx"
      },
      "execution_count": 27,
      "outputs": []
    },
    {
      "cell_type": "code",
      "source": [
        "#Evaluating the trained model with train data\n",
        "train_results = trained_model.evaluate(train_data)"
      ],
      "metadata": {
        "id": "mct1mbOzGhvi"
      },
      "execution_count": 28,
      "outputs": []
    },
    {
      "cell_type": "code",
      "source": [
        "#Calculating Rsquared and printing value\n",
        "print(\"The value of Rsquared is: \", train_results.r2)\n",
        "print(\"The model accuracy is {0:.0f}% with train data\".format(train_results.r2*100))"
      ],
      "metadata": {
        "colab": {
          "base_uri": "https://localhost:8080/"
        },
        "id": "9nD3q18VGw2H",
        "outputId": "3c2f6738-9b82-44b9-901e-c647a035d56e"
      },
      "execution_count": 30,
      "outputs": [
        {
          "output_type": "stream",
          "name": "stdout",
          "text": [
            "The value of Rsquared is:  0.6610190773575204\n",
            "The model accuracy is 66% with train data\n"
          ]
        }
      ]
    },
    {
      "cell_type": "code",
      "source": [
        "#Evaluate the trained model on test data\n",
        "test_results = trained_model.evaluate(test_data)"
      ],
      "metadata": {
        "id": "pV0A3tHnHUXe"
      },
      "execution_count": 31,
      "outputs": []
    },
    {
      "cell_type": "code",
      "source": [
        "#Calculating R Squared and printing value\n",
        "print(\"The value of Rsquared is: \", test_results.r2)\n",
        "print(\"The model accuarcy is {0:.0f}% with test data\".format(test_results.r2*100))"
      ],
      "metadata": {
        "colab": {
          "base_uri": "https://localhost:8080/"
        },
        "id": "t64LVkqOHe_Z",
        "outputId": "8a962af5-d4a2-4917-9991-6a0ef2a4e08b"
      },
      "execution_count": 33,
      "outputs": [
        {
          "output_type": "stream",
          "name": "stdout",
          "text": [
            "The value of Rsquared is:  0.639042567859207\n",
            "The model accuarcy is 64% with test data\n"
          ]
        }
      ]
    },
    {
      "cell_type": "code",
      "source": [
        "#Predicting the price of housing\n",
        "predictions = trained_model.transform(test_data)"
      ],
      "metadata": {
        "id": "TL9YVPbsH29v"
      },
      "execution_count": 34,
      "outputs": []
    },
    {
      "cell_type": "code",
      "source": [
        "#display the prediction price and current price\n",
        "predictions.show(truncate=True)"
      ],
      "metadata": {
        "colab": {
          "base_uri": "https://localhost:8080/"
        },
        "id": "Vd23SuNqH9iO",
        "outputId": "da16f6bd-1d2b-44b3-f6e8-275a29d7169a"
      },
      "execution_count": 35,
      "outputs": [
        {
          "output_type": "stream",
          "name": "stdout",
          "text": [
            "+--------------------+---------+------------------+\n",
            "|Independent Features|    price|        prediction|\n",
            "+--------------------+---------+------------------+\n",
            "|[0.0,0.0,4764.0,3...|1100000.0| 757204.0039721504|\n",
            "|[0.0,0.0,8049.0,2...| 355000.0| 645823.9608230554|\n",
            "|[0.0,0.0,28008.0,...|1300000.0|  1540266.39926368|\n",
            "|[0.0,1.5,1650.0,3...| 288000.0|388131.55755966157|\n",
            "|[0.0,2.5,7111.0,2...| 320000.0|  383280.501500573|\n",
            "|[0.0,2.5,8319.0,2...| 339950.0| 754181.8269468434|\n",
            "|[1.0,0.0,24501.0,...| 280000.0|-287537.5323210694|\n",
            "|[1.0,0.5,1642.0,1...| 255000.0|347596.67290125415|\n",
            "|[1.0,0.75,1284.0,...| 290000.0|296395.10819796845|\n",
            "|[1.0,0.75,4600.0,...| 315000.0|364131.76134861633|\n",
            "|[1.0,0.75,5746.0,...|  95000.0|212850.10655846447|\n",
            "|[1.0,0.75,6600.0,...| 351000.0| 326199.3458735794|\n",
            "|[1.0,0.75,6720.0,...| 280000.0| 134538.8502517417|\n",
            "|[1.0,0.75,7203.0,...| 124000.0|225832.44556999952|\n",
            "|[1.0,0.75,7203.0,...| 224000.0|225832.44556999952|\n",
            "|[1.0,0.75,9600.0,...| 200000.0| 94967.66970655695|\n",
            "|[1.0,0.75,59677.0...| 527550.0|-102522.8554578349|\n",
            "|[1.0,0.75,77603.0...| 190000.0| 94720.58048378676|\n",
            "|[1.0,0.75,87120.0...| 250000.0|144192.87505535036|\n",
            "|[1.0,1.0,833.0,1....| 202000.0|377567.61655332893|\n",
            "+--------------------+---------+------------------+\n",
            "only showing top 20 rows\n",
            "\n"
          ]
        }
      ]
    }
  ]
}